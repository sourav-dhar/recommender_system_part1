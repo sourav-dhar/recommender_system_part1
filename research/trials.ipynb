{
 "cells": [
  {
   "cell_type": "code",
   "execution_count": 5,
   "metadata": {},
   "outputs": [
    {
     "ename": "TypeError",
     "evalue": "Parameters to generic types must be types. Got 0.",
     "output_type": "error",
     "traceback": [
      "\u001b[1;31m---------------------------------------------------------------------------\u001b[0m",
      "\u001b[1;31mTypeError\u001b[0m                                 Traceback (most recent call last)",
      "\u001b[1;32mc:\\AI-ML\\Project_related\\Cost_prediction\\ML_COST_PREDICTION_APP\\research\\trials.ipynb Cell 1\u001b[0m line \u001b[0;36m2\n\u001b[0;32m      <a href='vscode-notebook-cell:/c%3A/AI-ML/Project_related/Cost_prediction/ML_COST_PREDICTION_APP/research/trials.ipynb#W0sZmlsZQ%3D%3D?line=0'>1</a>\u001b[0m \u001b[39mfor\u001b[39;00m i \u001b[39min\u001b[39;00m \u001b[39mrange\u001b[39m(\u001b[39m10\u001b[39m):\n\u001b[1;32m----> <a href='vscode-notebook-cell:/c%3A/AI-ML/Project_related/Cost_prediction/ML_COST_PREDICTION_APP/research/trials.ipynb#W0sZmlsZQ%3D%3D?line=1'>2</a>\u001b[0m     \u001b[39mprint\u001b[39m(List[i])\n",
      "File \u001b[1;32mc:\\AI-ML\\Project_related\\Cost_prediction\\ML_COST_PREDICTION_APP\\venv\\lib\\typing.py:243\u001b[0m, in \u001b[0;36m_tp_cache.<locals>.inner\u001b[1;34m(*args, **kwds)\u001b[0m\n\u001b[0;32m    241\u001b[0m \u001b[39mexcept\u001b[39;00m \u001b[39mTypeError\u001b[39;00m:\n\u001b[0;32m    242\u001b[0m     \u001b[39mpass\u001b[39;00m  \u001b[39m# All real errors (not unhashable args) are raised below.\u001b[39;00m\n\u001b[1;32m--> 243\u001b[0m \u001b[39mreturn\u001b[39;00m func(\u001b[39m*\u001b[39margs, \u001b[39m*\u001b[39m\u001b[39m*\u001b[39mkwds)\n",
      "File \u001b[1;32mc:\\AI-ML\\Project_related\\Cost_prediction\\ML_COST_PREDICTION_APP\\venv\\lib\\typing.py:774\u001b[0m, in \u001b[0;36m_SpecialGenericAlias.__getitem__\u001b[1;34m(self, params)\u001b[0m\n\u001b[0;32m    772\u001b[0m     params \u001b[39m=\u001b[39m (params,)\n\u001b[0;32m    773\u001b[0m msg \u001b[39m=\u001b[39m \u001b[39m\"\u001b[39m\u001b[39mParameters to generic types must be types.\u001b[39m\u001b[39m\"\u001b[39m\n\u001b[1;32m--> 774\u001b[0m params \u001b[39m=\u001b[39m \u001b[39mtuple\u001b[39;49m(_type_check(p, msg) \u001b[39mfor\u001b[39;49;00m p \u001b[39min\u001b[39;49;00m params)\n\u001b[0;32m    775\u001b[0m _check_generic(\u001b[39mself\u001b[39m, params, \u001b[39mself\u001b[39m\u001b[39m.\u001b[39m_nparams)\n\u001b[0;32m    776\u001b[0m \u001b[39mreturn\u001b[39;00m \u001b[39mself\u001b[39m\u001b[39m.\u001b[39mcopy_with(params)\n",
      "File \u001b[1;32mc:\\AI-ML\\Project_related\\Cost_prediction\\ML_COST_PREDICTION_APP\\venv\\lib\\typing.py:774\u001b[0m, in \u001b[0;36m<genexpr>\u001b[1;34m(.0)\u001b[0m\n\u001b[0;32m    772\u001b[0m     params \u001b[39m=\u001b[39m (params,)\n\u001b[0;32m    773\u001b[0m msg \u001b[39m=\u001b[39m \u001b[39m\"\u001b[39m\u001b[39mParameters to generic types must be types.\u001b[39m\u001b[39m\"\u001b[39m\n\u001b[1;32m--> 774\u001b[0m params \u001b[39m=\u001b[39m \u001b[39mtuple\u001b[39m(_type_check(p, msg) \u001b[39mfor\u001b[39;00m p \u001b[39min\u001b[39;00m params)\n\u001b[0;32m    775\u001b[0m _check_generic(\u001b[39mself\u001b[39m, params, \u001b[39mself\u001b[39m\u001b[39m.\u001b[39m_nparams)\n\u001b[0;32m    776\u001b[0m \u001b[39mreturn\u001b[39;00m \u001b[39mself\u001b[39m\u001b[39m.\u001b[39mcopy_with(params)\n",
      "File \u001b[1;32mc:\\AI-ML\\Project_related\\Cost_prediction\\ML_COST_PREDICTION_APP\\venv\\lib\\typing.py:151\u001b[0m, in \u001b[0;36m_type_check\u001b[1;34m(arg, msg, is_argument)\u001b[0m\n\u001b[0;32m    149\u001b[0m     \u001b[39mreturn\u001b[39;00m arg\n\u001b[0;32m    150\u001b[0m \u001b[39mif\u001b[39;00m \u001b[39mnot\u001b[39;00m \u001b[39mcallable\u001b[39m(arg):\n\u001b[1;32m--> 151\u001b[0m     \u001b[39mraise\u001b[39;00m \u001b[39mTypeError\u001b[39;00m(\u001b[39mf\u001b[39m\u001b[39m\"\u001b[39m\u001b[39m{\u001b[39;00mmsg\u001b[39m}\u001b[39;00m\u001b[39m Got \u001b[39m\u001b[39m{\u001b[39;00marg\u001b[39m!r:\u001b[39;00m\u001b[39m.100\u001b[39m\u001b[39m}\u001b[39;00m\u001b[39m.\u001b[39m\u001b[39m\"\u001b[39m)\n\u001b[0;32m    152\u001b[0m \u001b[39mreturn\u001b[39;00m arg\n",
      "\u001b[1;31mTypeError\u001b[0m: Parameters to generic types must be types. Got 0."
     ]
    }
   ],
   "source": [
    "for i in range(10):\n",
    "    print(List[i])"
   ]
  },
  {
   "cell_type": "code",
   "execution_count": 4,
   "metadata": {},
   "outputs": [],
   "source": [
    "from typing import List"
   ]
  },
  {
   "cell_type": "code",
   "execution_count": 6,
   "metadata": {},
   "outputs": [
    {
     "ename": "TypeError",
     "evalue": "Parameters to generic types must be types. Got 0.",
     "output_type": "error",
     "traceback": [
      "\u001b[1;31m---------------------------------------------------------------------------\u001b[0m",
      "\u001b[1;31mTypeError\u001b[0m                                 Traceback (most recent call last)",
      "\u001b[1;32mc:\\AI-ML\\Project_related\\Cost_prediction\\ML_COST_PREDICTION_APP\\research\\trials.ipynb Cell 3\u001b[0m line \u001b[0;36m2\n\u001b[0;32m      <a href='vscode-notebook-cell:/c%3A/AI-ML/Project_related/Cost_prediction/ML_COST_PREDICTION_APP/research/trials.ipynb#W1sZmlsZQ%3D%3D?line=0'>1</a>\u001b[0m \u001b[39mfor\u001b[39;00m i \u001b[39min\u001b[39;00m \u001b[39mrange\u001b[39m(\u001b[39m10\u001b[39m):\n\u001b[1;32m----> <a href='vscode-notebook-cell:/c%3A/AI-ML/Project_related/Cost_prediction/ML_COST_PREDICTION_APP/research/trials.ipynb#W1sZmlsZQ%3D%3D?line=1'>2</a>\u001b[0m     \u001b[39mprint\u001b[39m(List[i])\n",
      "File \u001b[1;32mc:\\AI-ML\\Project_related\\Cost_prediction\\ML_COST_PREDICTION_APP\\venv\\lib\\typing.py:243\u001b[0m, in \u001b[0;36m_tp_cache.<locals>.inner\u001b[1;34m(*args, **kwds)\u001b[0m\n\u001b[0;32m    241\u001b[0m \u001b[39mexcept\u001b[39;00m \u001b[39mTypeError\u001b[39;00m:\n\u001b[0;32m    242\u001b[0m     \u001b[39mpass\u001b[39;00m  \u001b[39m# All real errors (not unhashable args) are raised below.\u001b[39;00m\n\u001b[1;32m--> 243\u001b[0m \u001b[39mreturn\u001b[39;00m func(\u001b[39m*\u001b[39margs, \u001b[39m*\u001b[39m\u001b[39m*\u001b[39mkwds)\n",
      "File \u001b[1;32mc:\\AI-ML\\Project_related\\Cost_prediction\\ML_COST_PREDICTION_APP\\venv\\lib\\typing.py:774\u001b[0m, in \u001b[0;36m_SpecialGenericAlias.__getitem__\u001b[1;34m(self, params)\u001b[0m\n\u001b[0;32m    772\u001b[0m     params \u001b[39m=\u001b[39m (params,)\n\u001b[0;32m    773\u001b[0m msg \u001b[39m=\u001b[39m \u001b[39m\"\u001b[39m\u001b[39mParameters to generic types must be types.\u001b[39m\u001b[39m\"\u001b[39m\n\u001b[1;32m--> 774\u001b[0m params \u001b[39m=\u001b[39m \u001b[39mtuple\u001b[39;49m(_type_check(p, msg) \u001b[39mfor\u001b[39;49;00m p \u001b[39min\u001b[39;49;00m params)\n\u001b[0;32m    775\u001b[0m _check_generic(\u001b[39mself\u001b[39m, params, \u001b[39mself\u001b[39m\u001b[39m.\u001b[39m_nparams)\n\u001b[0;32m    776\u001b[0m \u001b[39mreturn\u001b[39;00m \u001b[39mself\u001b[39m\u001b[39m.\u001b[39mcopy_with(params)\n",
      "File \u001b[1;32mc:\\AI-ML\\Project_related\\Cost_prediction\\ML_COST_PREDICTION_APP\\venv\\lib\\typing.py:774\u001b[0m, in \u001b[0;36m<genexpr>\u001b[1;34m(.0)\u001b[0m\n\u001b[0;32m    772\u001b[0m     params \u001b[39m=\u001b[39m (params,)\n\u001b[0;32m    773\u001b[0m msg \u001b[39m=\u001b[39m \u001b[39m\"\u001b[39m\u001b[39mParameters to generic types must be types.\u001b[39m\u001b[39m\"\u001b[39m\n\u001b[1;32m--> 774\u001b[0m params \u001b[39m=\u001b[39m \u001b[39mtuple\u001b[39m(_type_check(p, msg) \u001b[39mfor\u001b[39;00m p \u001b[39min\u001b[39;00m params)\n\u001b[0;32m    775\u001b[0m _check_generic(\u001b[39mself\u001b[39m, params, \u001b[39mself\u001b[39m\u001b[39m.\u001b[39m_nparams)\n\u001b[0;32m    776\u001b[0m \u001b[39mreturn\u001b[39;00m \u001b[39mself\u001b[39m\u001b[39m.\u001b[39mcopy_with(params)\n",
      "File \u001b[1;32mc:\\AI-ML\\Project_related\\Cost_prediction\\ML_COST_PREDICTION_APP\\venv\\lib\\typing.py:151\u001b[0m, in \u001b[0;36m_type_check\u001b[1;34m(arg, msg, is_argument)\u001b[0m\n\u001b[0;32m    149\u001b[0m     \u001b[39mreturn\u001b[39;00m arg\n\u001b[0;32m    150\u001b[0m \u001b[39mif\u001b[39;00m \u001b[39mnot\u001b[39;00m \u001b[39mcallable\u001b[39m(arg):\n\u001b[1;32m--> 151\u001b[0m     \u001b[39mraise\u001b[39;00m \u001b[39mTypeError\u001b[39;00m(\u001b[39mf\u001b[39m\u001b[39m\"\u001b[39m\u001b[39m{\u001b[39;00mmsg\u001b[39m}\u001b[39;00m\u001b[39m Got \u001b[39m\u001b[39m{\u001b[39;00marg\u001b[39m!r:\u001b[39;00m\u001b[39m.100\u001b[39m\u001b[39m}\u001b[39;00m\u001b[39m.\u001b[39m\u001b[39m\"\u001b[39m)\n\u001b[0;32m    152\u001b[0m \u001b[39mreturn\u001b[39;00m arg\n",
      "\u001b[1;31mTypeError\u001b[0m: Parameters to generic types must be types. Got 0."
     ]
    }
   ],
   "source": [
    "for i in range(10):\n",
    "    print(List[i])"
   ]
  }
 ],
 "metadata": {
  "kernelspec": {
   "display_name": "Python 3",
   "language": "python",
   "name": "python3"
  },
  "language_info": {
   "codemirror_mode": {
    "name": "ipython",
    "version": 3
   },
   "file_extension": ".py",
   "mimetype": "text/x-python",
   "name": "python",
   "nbconvert_exporter": "python",
   "pygments_lexer": "ipython3",
   "version": "3.9.0"
  }
 },
 "nbformat": 4,
 "nbformat_minor": 2
}
